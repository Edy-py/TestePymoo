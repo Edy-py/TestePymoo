{
 "cells": [
  {
   "cell_type": "code",
   "execution_count": 1,
   "id": "580f869d",
   "metadata": {},
   "outputs": [],
   "source": [
    "from obj import *\n",
    "import math\n",
    "import pandas as pd\n",
    "# from EnergyPlusKernel import *\n"
   ]
  },
  {
   "cell_type": "markdown",
   "id": "8fa7c5c1",
   "metadata": {},
   "source": [
    "# Mapeamento"
   ]
  },
  {
   "cell_type": "code",
   "execution_count": 2,
   "id": "4cd2560e",
   "metadata": {},
   "outputs": [],
   "source": [
    "import pandas as pd\n",
    "import numpy as np\n",
    "import os"
   ]
  },
  {
   "cell_type": "code",
   "execution_count": 3,
   "id": "b9f4720b",
   "metadata": {},
   "outputs": [
    {
     "name": "stdout",
     "output_type": "stream",
     "text": [
      "Mapeamento de materiais criado com sucesso!\n",
      "Número de opções de paredes: 98\n",
      "Número de opções de radier: 5\n"
     ]
    }
   ],
   "source": [
    "\n",
    "\n",
    "# --- CARREGANDO OS DADOS DAS SUAS PLANILHAS ---\n",
    "\n",
    "try:\n",
    "\n",
    " \n",
    "\n",
    "    df_paredes = pd.read_excel(\"dados.xlsx\", sheet_name=\"comb_paredes\")\n",
    "    \n",
    "    df_radier = pd.read_excel(\"dados.xlsx\", sheet_name=\"comb_radier\")\n",
    "    \n",
    "\n",
    "\n",
    "    # Limpeza e preparação dos dados de custo\n",
    "    # Converte a coluna de custo para numérico, substituindo vírgula por ponto\n",
    "    # df_paredes['custo_final'] = df_paredes['custo(m2)'].str.replace(',', '.', regex=False).astype(float)\n",
    "    # df_radier['custo_final'] = df_radier['custo(m2)'].str.replace(',', '.', regex=False).astype(float)\n",
    "    \n",
    "    # Para cobertura e vidros, vamos assumir um custo por enquanto\n",
    "    # Você precisará adicionar a coluna de custo real na sua planilha 'comb_cobertura.csv'\n",
    "    # if 'custo' not in df_cobertura.columns:\n",
    "    #     df_cobertura['custo_final'] = 100.0 # Custo placeholder\n",
    "   \n",
    "\n",
    "\n",
    "    # --- CRIANDO O MAPEAMENTO DINAMICAMENTE ---\n",
    "\n",
    "    MAPEAMENTO_E_CUSTOS = {\n",
    "        'paredes': [{'nome': f\"Parede_Opcao_{i}\", 'custo_m2': row.custo_final, 'layers': row.to_dict()} for i, row in df_paredes.iterrows()],\n",
    "        'radier': [{'nome': f\"Radier_Opcao_{i}\", 'custo_m2': row.custo_final, 'layers': row.to_dict()} for i, row in df_radier.iterrows()],\n",
    "        \n",
    "    }\n",
    "\n",
    "    # Você também precisará das áreas para o cálculo de custo\n",
    "    AREAS = {\n",
    "        'paredes': 300,   # m² (exemplo)\n",
    "        'radier': 150,    # m² (exemplo)\n",
    "        \n",
    "    }\n",
    "\n",
    "    print(\"Mapeamento de materiais criado com sucesso!\")\n",
    "    print(f\"Número de opções de paredes: {len(MAPEAMENTO_E_CUSTOS['paredes'])}\")\n",
    "    \n",
    "    print(f\"Número de opções de radier: {len(MAPEAMENTO_E_CUSTOS['radier'])}\")\n",
    "    \n",
    "\n",
    "\n",
    "except FileNotFoundError as e:\n",
    "    print(f\"Erro: Arquivo não encontrado. Verifique se o nome e o caminho estão corretos.\")\n",
    "    print(e)"
   ]
  },
  {
   "cell_type": "code",
   "execution_count": 4,
   "id": "8712ad80",
   "metadata": {},
   "outputs": [],
   "source": [
    "\n",
    "# from EnergyPlusKernel import *"
   ]
  },
  {
   "cell_type": "code",
   "execution_count": null,
   "id": "610226a0",
   "metadata": {},
   "outputs": [],
   "source": []
  },
  {
   "cell_type": "markdown",
   "id": "dc5583d7",
   "metadata": {},
   "source": [
    "# Definindo problema"
   ]
  },
  {
   "cell_type": "code",
   "execution_count": 4,
   "id": "1f867370",
   "metadata": {},
   "outputs": [],
   "source": [
    "from pymoo.core.problem import Problem\n",
    "from pymoo.algorithms.moo.nsga2 import NSGA2\n",
    "from pymoo.operators.sampling.rnd import IntegerRandomSampling\n",
    "from pymoo.operators.crossover.pntx import TwoPointCrossover\n",
    "from pymoo.operators.mutation.pm import PolynomialMutation\n",
    "from pymoo.optimize import minimize\n",
    "from energyplus2 import * # Importa suas funções\n",
    "import time\n",
    "\n",
    "class EdificacaoProblem(Problem):\n",
    "\n",
    "    def __init__(self, mapeamento, areas):\n",
    "        self.mapeamento = mapeamento\n",
    "        self.areas = areas\n",
    "\n",
    "        # Definindo o número de variáveis e seus limites a partir dos dados carregados\n",
    "        self.componentes = list(mapeamento.keys())\n",
    "        n_var = len(self.componentes)\n",
    "        xu = [len(mapeamento[comp]) - 1 for comp in self.componentes]\n",
    "\n",
    "        super().__init__(n_var=n_var,\n",
    "                         n_obj=2,\n",
    "                         n_constr=0,\n",
    "                         xl=np.zeros(n_var),\n",
    "                         xu=np.array(xu),\n",
    "                         vtype=int)\n",
    "\n",
    "    def _evaluate(self, X, out, *args, **kwargs):\n",
    "        all_custos = []\n",
    "        all_confortos_neg = []\n",
    "\n",
    "        # X é um array de soluções. Ex: [[parede_idx1, cob_idx1, rad_idx1, vidro_idx1], [parede_idx2, ...]]\n",
    "        for x_solucao in X:\n",
    "            \n",
    "            # --- 1. Decodificar e Calcular Custo ---\n",
    "            custo_total = 0\n",
    "            materiais_escolhidos = {}\n",
    "            \n",
    "            for i, comp_nome in enumerate(self.componentes):\n",
    "                idx_escolhido = int(round(x_solucao[i]))\n",
    "                escolha = self.mapeamento[comp_nome][idx_escolhido]\n",
    "                \n",
    "                materiais_escolhidos[comp_nome] = escolha['nome']\n",
    "                custo_total += escolha['custo_m2'] * self.areas.get(comp_nome, 0)\n",
    "            \n",
    "            # --- 2. Preparar e Rodar Simulação ---\n",
    "            df_conbinacoes = (df_paredes, df_radier)\n",
    "            indices_escolhidos = tuple(int(round(x)) for x in x_solucao)\n",
    "            caminho_idf_modificado, flag = configurar_construction(\"ultimo_idf_modificado_modificado_material.idf\", df_conbinacoes, indices_escolhidos)\n",
    "            # caminho_idf_modificado = \"ultimo_idf_modificado_modificado_material_modificado_construction.idf\"\n",
    "\n",
    "\n",
    "            # with open(caminho_idf_modificado, 'r', encoding='utf-8') as f:\n",
    "            #     conteudo_idf = f.read()\n",
    "            #     with open(\"ultimo_idf_modificado.txt\", 'w', encoding='utf-8') as f2:\n",
    "            #         f2.write(conteudo_idf)\n",
    "\n",
    "\n",
    "            # (Esta parte ainda é um placeholder e precisa da sua implementação final)\n",
    "            print(f\"Avaliando solução: {materiais_escolhidos} com Custo: R${custo_total:.2f}\")\n",
    "\n",
    "            \n",
    "            if not flag:\n",
    "                print(f\"!!! ERRO na configuração do IDF para a solução {x_solucao}. Penalizando.\")\n",
    "                custo_total = 999999999\n",
    "                conforto_horas = 0\n",
    "\n",
    "                all_custos.append(custo_total)\n",
    "                all_confortos_neg.append(-conforto_horas) # Maximizar conforto => Minimizar (-conforto)\n",
    "                continue\n",
    "\n",
    "            processar_idf(\"simulacao\",\"Zona 6\", caminho_ep=\"C:/EnergyPlusV24-1-0/energyplus.exe\",caminho_epw=\"BRA_GO_Catalao.867770_INMET.epw\", caminho_idf=caminho_idf_modificado)\n",
    "                \n",
    "            \n",
    "            \n",
    "\n",
    "            all_custos.append(custo_total)\n",
    "            all_confortos_neg.append(-conforto_horas) # Maximizar conforto => Minimizar (-conforto)\n",
    "\n",
    "        out[\"F\"] = np.column_stack([all_custos, all_confortos_neg])"
   ]
  },
  {
   "cell_type": "markdown",
   "id": "0d607788",
   "metadata": {},
   "source": [
    "# config idf"
   ]
  },
  {
   "cell_type": "code",
   "execution_count": 6,
   "id": "5c74b889",
   "metadata": {},
   "outputs": [],
   "source": [
    "# caminho_energyplus_sua_maquina = \"C:/EnergyPlusV24-1-0/energyplus.exe\"\n",
    "# entrada_idf = \"versaoTESTE23base copy.idf\"\n",
    "# epw_file = \"BRA_GO_Catalao.867770_INMET.epw\"\n",
    "# material = \"mats.xlsx\"\n",
    "# vidros = \"glass.xlsx\"\n",
    "\n",
    "\n",
    "# idf_v = alterar_versao_energyplus_idf(entrada_idf)\n",
    "# idf_vs = configurar_simulation_control(idf_v)\n",
    "# clean_idf(idf_v)\n",
    "# idf_vsb = configurar_building(idf_vs)\n",
    "# clean_idf(idf_vs)\n",
    "# idf_vsbt = configurar_timestep(idf_vsb)\n",
    "# clean_idf(idf_vsb)\n",
    "# idf_vsbtr = configurar_run_period(idf_vsbt)\n",
    "# clean_idf(idf_vsbt)\n",
    "# idf_vsbtrd = configurar_dias_especiais(idf_vsbtr)\n",
    "# clean_idf(idf_vsbtr)\n",
    "# idf_vsbtrdm = adicionar_materiais_do_excel(idf_vsbtrd, material)\n",
    "# clean_idf(idf_vsbtrd)\n",
    "# idf_vsbtrdmv = adicionar_vidros_do_excel(idf_vsbtrdm, vidros)\n",
    "# clean_idf(idf_vsbtrdm)\n",
    "# idf_final = configurar_localizacao_do_epw(idf_vsbtrdmv, epw_file)\n",
    "# clean_idf(idf_vsbtrdmv)\n",
    "# # idf = salvar_idf_final(entrada_idf, idf_final)\n",
    "# # clean_idf(idf_final)\n"
   ]
  },
  {
   "cell_type": "markdown",
   "id": "bbdf8f34",
   "metadata": {},
   "source": [
    "# Config otmizador"
   ]
  },
  {
   "cell_type": "code",
   "execution_count": 7,
   "id": "0558c847",
   "metadata": {},
   "outputs": [
    {
     "ename": "ValueError",
     "evalue": "too many values to unpack (expected 2)",
     "output_type": "error",
     "traceback": [
      "\u001b[31m---------------------------------------------------------------------------\u001b[39m",
      "\u001b[31mValueError\u001b[39m                                Traceback (most recent call last)",
      "\u001b[36mCell\u001b[39m\u001b[36m \u001b[39m\u001b[32mIn[7]\u001b[39m\u001b[32m, line 15\u001b[39m\n\u001b[32m      5\u001b[39m problem = EdificacaoProblem(MAPEAMENTO_E_CUSTOS, AREAS)\n\u001b[32m      7\u001b[39m algorithm = NSGA2(\n\u001b[32m      8\u001b[39m     pop_size=\u001b[32m10\u001b[39m,  \u001b[38;5;66;03m# Mantenha baixo para testes iniciais\u001b[39;00m\n\u001b[32m      9\u001b[39m     sampling=IntegerRandomSampling(),\n\u001b[32m   (...)\u001b[39m\u001b[32m     12\u001b[39m     eliminate_duplicates=\u001b[38;5;28;01mTrue\u001b[39;00m\n\u001b[32m     13\u001b[39m )\n\u001b[32m---> \u001b[39m\u001b[32m15\u001b[39m res = \u001b[43mminimize\u001b[49m\u001b[43m(\u001b[49m\u001b[43mproblem\u001b[49m\u001b[43m,\u001b[49m\n\u001b[32m     16\u001b[39m \u001b[43m               \u001b[49m\u001b[43malgorithm\u001b[49m\u001b[43m,\u001b[49m\n\u001b[32m     17\u001b[39m \u001b[43m               \u001b[49m\u001b[43m(\u001b[49m\u001b[33;43m'\u001b[39;49m\u001b[33;43mn_gen\u001b[39;49m\u001b[33;43m'\u001b[39;49m\u001b[43m,\u001b[49m\u001b[43m \u001b[49m\u001b[32;43m5\u001b[39;49m\u001b[43m)\u001b[49m\u001b[43m,\u001b[49m\u001b[43m \u001b[49m\u001b[38;5;66;43;03m# Mantenha baixo para testes iniciais\u001b[39;49;00m\n\u001b[32m     18\u001b[39m \u001b[43m               \u001b[49m\u001b[43mseed\u001b[49m\u001b[43m=\u001b[49m\u001b[32;43m1\u001b[39;49m\u001b[43m,\u001b[49m\n\u001b[32m     19\u001b[39m \u001b[43m               \u001b[49m\u001b[43mverbose\u001b[49m\u001b[43m=\u001b[49m\u001b[38;5;28;43;01mTrue\u001b[39;49;00m\u001b[43m)\u001b[49m\n\u001b[32m     21\u001b[39m \u001b[38;5;66;03m# --- ANALISANDO OS RESULTADOS ---\u001b[39;00m\n\u001b[32m     22\u001b[39m \u001b[38;5;28mprint\u001b[39m(\u001b[33m\"\u001b[39m\u001b[38;5;130;01m\\n\u001b[39;00m\u001b[33m\"\u001b[39m + \u001b[33m\"\u001b[39m\u001b[33m=\u001b[39m\u001b[33m\"\u001b[39m*\u001b[32m50\u001b[39m)\n",
      "\u001b[36mFile \u001b[39m\u001b[32mc:\\Users\\edilson\\OneDrive - Universidade Federal de Catalao\\Área de Trabalho\\repositórios\\TestePymoo\\TestePymoo\\venv\\Lib\\site-packages\\pymoo\\optimize.py:67\u001b[39m, in \u001b[36mminimize\u001b[39m\u001b[34m(problem, algorithm, termination, copy_algorithm, copy_termination, **kwargs)\u001b[39m\n\u001b[32m     64\u001b[39m     algorithm.setup(problem, **kwargs)\n\u001b[32m     66\u001b[39m \u001b[38;5;66;03m# actually execute the algorithm\u001b[39;00m\n\u001b[32m---> \u001b[39m\u001b[32m67\u001b[39m res = \u001b[43malgorithm\u001b[49m\u001b[43m.\u001b[49m\u001b[43mrun\u001b[49m\u001b[43m(\u001b[49m\u001b[43m)\u001b[49m\n\u001b[32m     69\u001b[39m \u001b[38;5;66;03m# store the deep copied algorithm in the result object\u001b[39;00m\n\u001b[32m     70\u001b[39m res.algorithm = algorithm\n",
      "\u001b[36mFile \u001b[39m\u001b[32mc:\\Users\\edilson\\OneDrive - Universidade Federal de Catalao\\Área de Trabalho\\repositórios\\TestePymoo\\TestePymoo\\venv\\Lib\\site-packages\\pymoo\\core\\algorithm.py:138\u001b[39m, in \u001b[36mAlgorithm.run\u001b[39m\u001b[34m(self)\u001b[39m\n\u001b[32m    136\u001b[39m \u001b[38;5;28;01mdef\u001b[39;00m\u001b[38;5;250m \u001b[39m\u001b[34mrun\u001b[39m(\u001b[38;5;28mself\u001b[39m):\n\u001b[32m    137\u001b[39m     \u001b[38;5;28;01mwhile\u001b[39;00m \u001b[38;5;28mself\u001b[39m.has_next():\n\u001b[32m--> \u001b[39m\u001b[32m138\u001b[39m         \u001b[38;5;28;43mself\u001b[39;49m\u001b[43m.\u001b[49m\u001b[43mnext\u001b[49m\u001b[43m(\u001b[49m\u001b[43m)\u001b[49m\n\u001b[32m    139\u001b[39m     \u001b[38;5;28;01mreturn\u001b[39;00m \u001b[38;5;28mself\u001b[39m.result()\n",
      "\u001b[36mFile \u001b[39m\u001b[32mc:\\Users\\edilson\\OneDrive - Universidade Federal de Catalao\\Área de Trabalho\\repositórios\\TestePymoo\\TestePymoo\\venv\\Lib\\site-packages\\pymoo\\core\\algorithm.py:158\u001b[39m, in \u001b[36mAlgorithm.next\u001b[39m\u001b[34m(self)\u001b[39m\n\u001b[32m    156\u001b[39m \u001b[38;5;66;03m# call the advance with them after evaluation\u001b[39;00m\n\u001b[32m    157\u001b[39m \u001b[38;5;28;01mif\u001b[39;00m infills \u001b[38;5;129;01mis\u001b[39;00m \u001b[38;5;129;01mnot\u001b[39;00m \u001b[38;5;28;01mNone\u001b[39;00m:\n\u001b[32m--> \u001b[39m\u001b[32m158\u001b[39m     \u001b[38;5;28;43mself\u001b[39;49m\u001b[43m.\u001b[49m\u001b[43mevaluator\u001b[49m\u001b[43m.\u001b[49m\u001b[43meval\u001b[49m\u001b[43m(\u001b[49m\u001b[38;5;28;43mself\u001b[39;49m\u001b[43m.\u001b[49m\u001b[43mproblem\u001b[49m\u001b[43m,\u001b[49m\u001b[43m \u001b[49m\u001b[43minfills\u001b[49m\u001b[43m,\u001b[49m\u001b[43m \u001b[49m\u001b[43malgorithm\u001b[49m\u001b[43m=\u001b[49m\u001b[38;5;28;43mself\u001b[39;49m\u001b[43m)\u001b[49m\n\u001b[32m    159\u001b[39m     \u001b[38;5;28mself\u001b[39m.advance(infills=infills)\n\u001b[32m    161\u001b[39m \u001b[38;5;66;03m# if the algorithm does not follow the infill-advance scheme just call advance\u001b[39;00m\n\u001b[32m    162\u001b[39m \u001b[38;5;28;01melse\u001b[39;00m:\n",
      "\u001b[36mFile \u001b[39m\u001b[32mc:\\Users\\edilson\\OneDrive - Universidade Federal de Catalao\\Área de Trabalho\\repositórios\\TestePymoo\\TestePymoo\\venv\\Lib\\site-packages\\pymoo\\core\\evaluator.py:69\u001b[39m, in \u001b[36mEvaluator.eval\u001b[39m\u001b[34m(self, problem, pop, skip_already_evaluated, evaluate_values_of, count_evals, **kwargs)\u001b[39m\n\u001b[32m     65\u001b[39m \u001b[38;5;66;03m# evaluate the solutions (if there are any)\u001b[39;00m\n\u001b[32m     66\u001b[39m \u001b[38;5;28;01mif\u001b[39;00m \u001b[38;5;28mlen\u001b[39m(I) > \u001b[32m0\u001b[39m:\n\u001b[32m     67\u001b[39m \n\u001b[32m     68\u001b[39m     \u001b[38;5;66;03m# do the actual evaluation - call the sub-function to set the corresponding values to the population\u001b[39;00m\n\u001b[32m---> \u001b[39m\u001b[32m69\u001b[39m     \u001b[38;5;28;43mself\u001b[39;49m\u001b[43m.\u001b[49m\u001b[43m_eval\u001b[49m\u001b[43m(\u001b[49m\u001b[43mproblem\u001b[49m\u001b[43m,\u001b[49m\u001b[43m \u001b[49m\u001b[43mpop\u001b[49m\u001b[43m[\u001b[49m\u001b[43mI\u001b[49m\u001b[43m]\u001b[49m\u001b[43m,\u001b[49m\u001b[43m \u001b[49m\u001b[43mevaluate_values_of\u001b[49m\u001b[43m,\u001b[49m\u001b[43m \u001b[49m\u001b[43m*\u001b[49m\u001b[43m*\u001b[49m\u001b[43mkwargs\u001b[49m\u001b[43m)\u001b[49m\n\u001b[32m     71\u001b[39m \u001b[38;5;66;03m# update the function evaluation counter\u001b[39;00m\n\u001b[32m     72\u001b[39m \u001b[38;5;28;01mif\u001b[39;00m count_evals:\n",
      "\u001b[36mFile \u001b[39m\u001b[32mc:\\Users\\edilson\\OneDrive - Universidade Federal de Catalao\\Área de Trabalho\\repositórios\\TestePymoo\\TestePymoo\\venv\\Lib\\site-packages\\pymoo\\core\\evaluator.py:90\u001b[39m, in \u001b[36mEvaluator._eval\u001b[39m\u001b[34m(self, problem, pop, evaluate_values_of, **kwargs)\u001b[39m\n\u001b[32m     87\u001b[39m X = pop.get(\u001b[33m\"\u001b[39m\u001b[33mX\u001b[39m\u001b[33m\"\u001b[39m)\n\u001b[32m     89\u001b[39m \u001b[38;5;66;03m# call the problem to evaluate the solutions\u001b[39;00m\n\u001b[32m---> \u001b[39m\u001b[32m90\u001b[39m out = \u001b[43mproblem\u001b[49m\u001b[43m.\u001b[49m\u001b[43mevaluate\u001b[49m\u001b[43m(\u001b[49m\u001b[43mX\u001b[49m\u001b[43m,\u001b[49m\u001b[43m \u001b[49m\u001b[43mreturn_values_of\u001b[49m\u001b[43m=\u001b[49m\u001b[43mevaluate_values_of\u001b[49m\u001b[43m,\u001b[49m\u001b[43m \u001b[49m\u001b[43mreturn_as_dictionary\u001b[49m\u001b[43m=\u001b[49m\u001b[38;5;28;43;01mTrue\u001b[39;49;00m\u001b[43m,\u001b[49m\u001b[43m \u001b[49m\u001b[43m*\u001b[49m\u001b[43m*\u001b[49m\u001b[43mkwargs\u001b[49m\u001b[43m)\u001b[49m\n\u001b[32m     92\u001b[39m \u001b[38;5;66;03m# for each of the attributes set it to the problem\u001b[39;00m\n\u001b[32m     93\u001b[39m \u001b[38;5;28;01mfor\u001b[39;00m key, val \u001b[38;5;129;01min\u001b[39;00m out.items():\n",
      "\u001b[36mFile \u001b[39m\u001b[32mc:\\Users\\edilson\\OneDrive - Universidade Federal de Catalao\\Área de Trabalho\\repositórios\\TestePymoo\\TestePymoo\\venv\\Lib\\site-packages\\pymoo\\core\\problem.py:257\u001b[39m, in \u001b[36mProblem.evaluate\u001b[39m\u001b[34m(self, X, return_values_of, return_as_dictionary, *args, **kwargs)\u001b[39m\n\u001b[32m    254\u001b[39m     only_single_value = \u001b[38;5;129;01mnot\u001b[39;00m (\u001b[38;5;28misinstance\u001b[39m(X, \u001b[38;5;28mlist\u001b[39m) \u001b[38;5;129;01mor\u001b[39;00m \u001b[38;5;28misinstance\u001b[39m(X, np.ndarray))\n\u001b[32m    256\u001b[39m \u001b[38;5;66;03m# this is where the actual evaluation takes place\u001b[39;00m\n\u001b[32m--> \u001b[39m\u001b[32m257\u001b[39m _out = \u001b[38;5;28;43mself\u001b[39;49m\u001b[43m.\u001b[49m\u001b[43mdo\u001b[49m\u001b[43m(\u001b[49m\u001b[43mX\u001b[49m\u001b[43m,\u001b[49m\u001b[43m \u001b[49m\u001b[43mreturn_values_of\u001b[49m\u001b[43m,\u001b[49m\u001b[43m \u001b[49m\u001b[43m*\u001b[49m\u001b[43margs\u001b[49m\u001b[43m,\u001b[49m\u001b[43m \u001b[49m\u001b[43m*\u001b[49m\u001b[43m*\u001b[49m\u001b[43mkwargs\u001b[49m\u001b[43m)\u001b[49m\n\u001b[32m    259\u001b[39m out = {}\n\u001b[32m    260\u001b[39m \u001b[38;5;28;01mfor\u001b[39;00m k, v \u001b[38;5;129;01min\u001b[39;00m _out.items():\n\u001b[32m    261\u001b[39m \n\u001b[32m    262\u001b[39m     \u001b[38;5;66;03m# copy it to a numpy array (it might be one of jax at this point)\u001b[39;00m\n",
      "\u001b[36mFile \u001b[39m\u001b[32mc:\\Users\\edilson\\OneDrive - Universidade Federal de Catalao\\Área de Trabalho\\repositórios\\TestePymoo\\TestePymoo\\venv\\Lib\\site-packages\\pymoo\\core\\problem.py:299\u001b[39m, in \u001b[36mProblem.do\u001b[39m\u001b[34m(self, X, return_values_of, *args, **kwargs)\u001b[39m\n\u001b[32m    297\u001b[39m     \u001b[38;5;28mself\u001b[39m._evaluate_elementwise(X, out, *args, **kwargs)\n\u001b[32m    298\u001b[39m \u001b[38;5;28;01melse\u001b[39;00m:\n\u001b[32m--> \u001b[39m\u001b[32m299\u001b[39m     \u001b[38;5;28;43mself\u001b[39;49m\u001b[43m.\u001b[49m\u001b[43m_evaluate_vectorized\u001b[49m\u001b[43m(\u001b[49m\u001b[43mX\u001b[49m\u001b[43m,\u001b[49m\u001b[43m \u001b[49m\u001b[43mout\u001b[49m\u001b[43m,\u001b[49m\u001b[43m \u001b[49m\u001b[43m*\u001b[49m\u001b[43margs\u001b[49m\u001b[43m,\u001b[49m\u001b[43m \u001b[49m\u001b[43m*\u001b[49m\u001b[43m*\u001b[49m\u001b[43mkwargs\u001b[49m\u001b[43m)\u001b[49m\n\u001b[32m    301\u001b[39m \u001b[38;5;66;03m# finally format the output dictionary\u001b[39;00m\n\u001b[32m    302\u001b[39m out = \u001b[38;5;28mself\u001b[39m._format_dict(out, \u001b[38;5;28mlen\u001b[39m(X), return_values_of)\n",
      "\u001b[36mFile \u001b[39m\u001b[32mc:\\Users\\edilson\\OneDrive - Universidade Federal de Catalao\\Área de Trabalho\\repositórios\\TestePymoo\\TestePymoo\\venv\\Lib\\site-packages\\pymoo\\core\\problem.py:307\u001b[39m, in \u001b[36mProblem._evaluate_vectorized\u001b[39m\u001b[34m(self, X, out, *args, **kwargs)\u001b[39m\n\u001b[32m    306\u001b[39m \u001b[38;5;28;01mdef\u001b[39;00m\u001b[38;5;250m \u001b[39m\u001b[34m_evaluate_vectorized\u001b[39m(\u001b[38;5;28mself\u001b[39m, X, out, *args, **kwargs):\n\u001b[32m--> \u001b[39m\u001b[32m307\u001b[39m     \u001b[38;5;28;43mself\u001b[39;49m\u001b[43m.\u001b[49m\u001b[43m_evaluate\u001b[49m\u001b[43m(\u001b[49m\u001b[43mX\u001b[49m\u001b[43m,\u001b[49m\u001b[43m \u001b[49m\u001b[43mout\u001b[49m\u001b[43m,\u001b[49m\u001b[43m \u001b[49m\u001b[43m*\u001b[49m\u001b[43margs\u001b[49m\u001b[43m,\u001b[49m\u001b[43m \u001b[49m\u001b[43m*\u001b[49m\u001b[43m*\u001b[49m\u001b[43mkwargs\u001b[49m\u001b[43m)\u001b[49m\n",
      "\u001b[36mCell\u001b[39m\u001b[36m \u001b[39m\u001b[32mIn[4]\u001b[39m\u001b[32m, line 49\u001b[39m, in \u001b[36mEdificacaoProblem._evaluate\u001b[39m\u001b[34m(self, X, out, *args, **kwargs)\u001b[39m\n\u001b[32m     47\u001b[39m df_conbinacoes = (df_paredes, df_radier)\n\u001b[32m     48\u001b[39m indices_escolhidos = \u001b[38;5;28mtuple\u001b[39m(\u001b[38;5;28mint\u001b[39m(\u001b[38;5;28mround\u001b[39m(x)) \u001b[38;5;28;01mfor\u001b[39;00m x \u001b[38;5;129;01min\u001b[39;00m x_solucao)\n\u001b[32m---> \u001b[39m\u001b[32m49\u001b[39m caminho_idf_modificado, flag = configurar_construction(\u001b[33m\"\u001b[39m\u001b[33multimo_idf_modificado_modificado_material.idf\u001b[39m\u001b[33m\"\u001b[39m, df_conbinacoes, indices_escolhidos)\n\u001b[32m     50\u001b[39m \u001b[38;5;66;03m# caminho_idf_modificado = \"ultimo_idf_modificado_modificado_material_modificado_construction.idf\"\u001b[39;00m\n\u001b[32m     51\u001b[39m \n\u001b[32m     52\u001b[39m \n\u001b[32m   (...)\u001b[39m\u001b[32m     58\u001b[39m \n\u001b[32m     59\u001b[39m \u001b[38;5;66;03m# (Esta parte ainda é um placeholder e precisa da sua implementação final)\u001b[39;00m\n\u001b[32m     60\u001b[39m \u001b[38;5;28mprint\u001b[39m(\u001b[33mf\u001b[39m\u001b[33m\"\u001b[39m\u001b[33mAvaliando solução: \u001b[39m\u001b[38;5;132;01m{\u001b[39;00mmateriais_escolhidos\u001b[38;5;132;01m}\u001b[39;00m\u001b[33m com Custo: R$\u001b[39m\u001b[38;5;132;01m{\u001b[39;00mcusto_total\u001b[38;5;132;01m:\u001b[39;00m\u001b[33m.2f\u001b[39m\u001b[38;5;132;01m}\u001b[39;00m\u001b[33m\"\u001b[39m)\n",
      "\u001b[31mValueError\u001b[39m: too many values to unpack (expected 2)"
     ]
    }
   ],
   "source": [
    "# --- CONFIGURANDO E RODANDO O OTIMIZADOR ---\n",
    "\n",
    "# Verifica se o mapeamento foi carregado antes de continuar\n",
    "if 'MAPEAMENTO_E_CUSTOS' in locals():\n",
    "    problem = EdificacaoProblem(MAPEAMENTO_E_CUSTOS, AREAS)\n",
    "\n",
    "    algorithm = NSGA2(\n",
    "        pop_size=10,  # Mantenha baixo para testes iniciais\n",
    "        sampling=IntegerRandomSampling(),\n",
    "        crossover=TwoPointCrossover(),\n",
    "        mutation=PolynomialMutation(),\n",
    "        eliminate_duplicates=True\n",
    "    )\n",
    "\n",
    "    res = minimize(problem,\n",
    "                   algorithm,\n",
    "                   ('n_gen', 5), # Mantenha baixo para testes iniciais\n",
    "                   seed=1,\n",
    "                   verbose=True)\n",
    "\n",
    "    # --- ANALISANDO OS RESULTADOS ---\n",
    "    print(\"\\n\" + \"=\"*50)\n",
    "    print(\"OTIMIZAÇÃO CONCLUÍDA\")\n",
    "    print(\"=\"*50)\n",
    "\n",
    "    # Inverta o sinal do conforto de volta para positivo\n",
    "    res.F[:, 1] *= -1\n",
    "\n",
    "    print(\"\\nMelhores combinações encontradas (Fronteira de Pareto):\")\n",
    "    for i in range(len(res.X)):\n",
    "        solucao_indices = res.X[i]\n",
    "        solucao_custo = res.F[i, 0]\n",
    "        solucao_conforto = res.F[i, 1]\n",
    "        \n",
    "        print(f\"\\n--- Solução {i+1} ---\")\n",
    "        print(f\"  > Custo: R$ {solucao_custo:,.2f} | Conforto: {solucao_conforto:,.2f} horas\")\n",
    "        print(f\"  > Combinação de Índices: {solucao_indices}\")\n",
    "        # Decodificando os índices para nomes para fácil leitura\n",
    "        for j, comp_nome in enumerate(problem.componentes):\n",
    "            nome_mat = MAPEAMENTO_E_CUSTOS[comp_nome][round(solucao_indices[j])]['nome']\n",
    "            print(f\"    - {comp_nome.title()}: {nome_mat} (Índice {solucao_indices[j]})\")"
   ]
  },
  {
   "cell_type": "code",
   "execution_count": 8,
   "id": "6e2a3f0c",
   "metadata": {},
   "outputs": [
    {
     "name": "stdout",
     "output_type": "stream",
     "text": [
      "Rodando comando: C:/EnergyPlusV24-1-0/energyplus.exe -r -d simulacao -w BRA_GO_Catalao.867770_INMET.epw --expandobjects --readvars ultimo_idf_modificado_modificado_material_modificado_construction.idf\n"
     ]
    },
    {
     "data": {
      "text/plain": [
       "'simulacao\\\\ultimo_idf_modificado_modificado_material_modificado_construction.csv'"
      ]
     },
     "execution_count": 8,
     "metadata": {},
     "output_type": "execute_result"
    }
   ],
   "source": [
    "from energyplus2 import *\n",
    "import os\n",
    "\n",
    "simulacao = \"simulacao\"\n",
    "if not os.path.exists(simulacao):\n",
    "    os.makedirs(simulacao)\n",
    "\n",
    "epw = \"BRA_GO_Catalao.867770_INMET.epw\"\n",
    "idf = \"ultimo_idf_modificado_modificado_material_modificado_construction.idf\"\n",
    "caminho_ep = \"C:/EnergyPlusV24-1-0/energyplus.exe\"\n",
    "\n",
    "# dict = processar_idf(simulacao, \"Zona 6\", caminho_ep, epw, idf)\n",
    "\n",
    "executar_energyplus(caminho_ep,simulacao,epw,idf)"
   ]
  },
  {
   "cell_type": "code",
   "execution_count": 3,
   "id": "633e5424",
   "metadata": {},
   "outputs": [
    {
     "data": {
      "text/plain": [
       "'ultimo_idf_modificado_modificado_material.idf'"
      ]
     },
     "execution_count": 3,
     "metadata": {},
     "output_type": "execute_result"
    }
   ],
   "source": [
    "import pandas as pd\n",
    "from energyplus2 import *\n",
    "\n",
    "idf = \"ultimo_idf_modificado.idf\"\n",
    "material = pd.read_excel(\"dados.xlsx\", sheet_name=\"props_mats\")\n",
    "\n",
    "# material['Espessura (m)'] = material['Espessura (m)'].astype(str).str.replace(',','.').astype(float)\n",
    "# material[['Absortância Térmica','Absortância Solar', 'Absortância Visivel']] = material[['Absortância Térmica','Absortância Solar', 'Absortância Visivel']].astype(str).replace('-1989','0', regex=True).astype(float)\n",
    "\n",
    "# display(material)\n",
    "# material.to_excel(\"materiais.xlsx\", index=False)\n",
    "\n",
    "adicionar_materiais_do_excel(idf, \"materiais.xlsx\")\n",
    "\n"
   ]
  },
  {
   "cell_type": "code",
   "execution_count": null,
   "id": "8487aae3",
   "metadata": {},
   "outputs": [
    {
     "name": "stdout",
     "output_type": "stream",
     "text": [
      "{'QUARTO': 7488.0, 'TELHADO': 5077.0}\n"
     ]
    }
   ],
   "source": [
    "print(dict)"
   ]
  },
  {
   "cell_type": "code",
   "execution_count": null,
   "id": "fa288366",
   "metadata": {},
   "outputs": [
    {
     "data": {
      "text/plain": [
       "True"
      ]
     },
     "execution_count": 18,
     "metadata": {},
     "output_type": "execute_result"
    }
   ],
   "source": [
    "os.path.isfile(\"versaoTESTE23base copy_modificado_versao_modificado_simulation_control_modificado_building_modificado_timestep_modificado_run_period_modificado_feriados_modificado_material_modificado_glass_modificado_localizacao_epw_modificado_construction.idf\")"
   ]
  },
  {
   "cell_type": "code",
   "execution_count": null,
   "id": "a1d76dce",
   "metadata": {},
   "outputs": [],
   "source": []
  }
 ],
 "metadata": {
  "kernelspec": {
   "display_name": "venv",
   "language": "python",
   "name": "python3"
  },
  "language_info": {
   "codemirror_mode": {
    "name": "ipython",
    "version": 3
   },
   "file_extension": ".py",
   "mimetype": "text/x-python",
   "name": "python",
   "nbconvert_exporter": "python",
   "pygments_lexer": "ipython3",
   "version": "3.13.7"
  }
 },
 "nbformat": 4,
 "nbformat_minor": 5
}
